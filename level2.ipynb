{
 "cells": [
  {
   "cell_type": "markdown",
   "id": "ae717e20",
   "metadata": {},
   "source": [
    "# Level2 Task1\n",
    "# Table Booking and Online Delivery"
   ]
  },
  {
   "cell_type": "code",
   "execution_count": 2,
   "id": "50043311",
   "metadata": {},
   "outputs": [],
   "source": [
    "import pandas as pd\n",
    "df = pd.read_csv(\"Dataset .csv\")\n",
    "pd.set_option('display.max_columns', None)"
   ]
  },
  {
   "cell_type": "markdown",
   "id": "7493151b",
   "metadata": {},
   "source": [
    "Determine the percentage of restaurants thatoffer table booking and online delivery."
   ]
  },
  {
   "cell_type": "code",
   "execution_count": 3,
   "id": "0ce469b2",
   "metadata": {},
   "outputs": [
    {
     "data": {
      "text/html": [
       "<div>\n",
       "<style scoped>\n",
       "    .dataframe tbody tr th:only-of-type {\n",
       "        vertical-align: middle;\n",
       "    }\n",
       "\n",
       "    .dataframe tbody tr th {\n",
       "        vertical-align: top;\n",
       "    }\n",
       "\n",
       "    .dataframe thead th {\n",
       "        text-align: right;\n",
       "    }\n",
       "</style>\n",
       "<table border=\"1\" class=\"dataframe\">\n",
       "  <thead>\n",
       "    <tr style=\"text-align: right;\">\n",
       "      <th></th>\n",
       "      <th>Restaurant ID</th>\n",
       "      <th>Restaurant Name</th>\n",
       "      <th>Country Code</th>\n",
       "      <th>City</th>\n",
       "      <th>Address</th>\n",
       "      <th>Locality</th>\n",
       "      <th>Locality Verbose</th>\n",
       "      <th>Longitude</th>\n",
       "      <th>Latitude</th>\n",
       "      <th>Cuisines</th>\n",
       "      <th>Average Cost for two</th>\n",
       "      <th>Currency</th>\n",
       "      <th>Has Table booking</th>\n",
       "      <th>Has Online delivery</th>\n",
       "      <th>Is delivering now</th>\n",
       "      <th>Switch to order menu</th>\n",
       "      <th>Price range</th>\n",
       "      <th>Aggregate rating</th>\n",
       "      <th>Rating color</th>\n",
       "      <th>Rating text</th>\n",
       "      <th>Votes</th>\n",
       "    </tr>\n",
       "  </thead>\n",
       "  <tbody>\n",
       "    <tr>\n",
       "      <th>5539</th>\n",
       "      <td>18238245</td>\n",
       "      <td>Malhotra's Zayeeka</td>\n",
       "      <td>1</td>\n",
       "      <td>New Delhi</td>\n",
       "      <td>Shop 23, Sudama Market, Moti Nagar, New Delhi</td>\n",
       "      <td>Moti Nagar</td>\n",
       "      <td>Moti Nagar, New Delhi</td>\n",
       "      <td>77.13919</td>\n",
       "      <td>28.657457</td>\n",
       "      <td>North Indian, Chinese</td>\n",
       "      <td>500</td>\n",
       "      <td>Indian Rupees(Rs.)</td>\n",
       "      <td>No</td>\n",
       "      <td>No</td>\n",
       "      <td>No</td>\n",
       "      <td>No</td>\n",
       "      <td>2</td>\n",
       "      <td>0.0</td>\n",
       "      <td>White</td>\n",
       "      <td>Not rated</td>\n",
       "      <td>1</td>\n",
       "    </tr>\n",
       "  </tbody>\n",
       "</table>\n",
       "</div>"
      ],
      "text/plain": [
       "      Restaurant ID     Restaurant Name  Country Code       City  \\\n",
       "5539       18238245  Malhotra's Zayeeka             1  New Delhi   \n",
       "\n",
       "                                            Address    Locality  \\\n",
       "5539  Shop 23, Sudama Market, Moti Nagar, New Delhi  Moti Nagar   \n",
       "\n",
       "           Locality Verbose  Longitude   Latitude               Cuisines  \\\n",
       "5539  Moti Nagar, New Delhi   77.13919  28.657457  North Indian, Chinese   \n",
       "\n",
       "      Average Cost for two            Currency Has Table booking  \\\n",
       "5539                   500  Indian Rupees(Rs.)                No   \n",
       "\n",
       "     Has Online delivery Is delivering now Switch to order menu  Price range  \\\n",
       "5539                  No                No                   No            2   \n",
       "\n",
       "      Aggregate rating Rating color Rating text  Votes  \n",
       "5539               0.0        White   Not rated      1  "
      ]
     },
     "execution_count": 3,
     "metadata": {},
     "output_type": "execute_result"
    }
   ],
   "source": [
    "df.sample()"
   ]
  },
  {
   "cell_type": "code",
   "execution_count": 4,
   "id": "97e05050",
   "metadata": {},
   "outputs": [
    {
     "data": {
      "text/plain": [
       "(np.int64(9551), 9551)"
      ]
     },
     "execution_count": 4,
     "metadata": {},
     "output_type": "execute_result"
    }
   ],
   "source": [
    "df[\"Restaurant ID\"].count(),df[\"Restaurant ID\"].nunique()"
   ]
  },
  {
   "cell_type": "code",
   "execution_count": 5,
   "id": "35b57150",
   "metadata": {},
   "outputs": [
    {
     "name": "stdout",
     "output_type": "stream",
     "text": [
      "12.124384881164275\n"
     ]
    }
   ],
   "source": [
    "#Restraunts offering Table Booking Percentage\n",
    "print((df[\"Restaurant ID\"][df[\"Has Table booking\"]==\"Yes\"].count()/df[\"Restaurant ID\"].count())*100)"
   ]
  },
  {
   "cell_type": "code",
   "execution_count": 6,
   "id": "e9b39642",
   "metadata": {},
   "outputs": [
    {
     "name": "stdout",
     "output_type": "stream",
     "text": [
      "25.662234321013504\n"
     ]
    }
   ],
   "source": [
    "#Restraunts offering Online Delivery\n",
    "print((df[\"Restaurant ID\"][df[\"Has Online delivery\"]==\"Yes\"].count()/df[\"Restaurant ID\"].count())*100)"
   ]
  },
  {
   "cell_type": "markdown",
   "id": "18a5f639",
   "metadata": {},
   "source": [
    "Compare the average ratings of restaurants with table booking and those without."
   ]
  },
  {
   "cell_type": "code",
   "execution_count": 7,
   "id": "16468dd0",
   "metadata": {},
   "outputs": [
    {
     "data": {
      "text/plain": [
       "count    9551.000000\n",
       "mean        2.666370\n",
       "std         1.516378\n",
       "min         0.000000\n",
       "25%         2.500000\n",
       "50%         3.200000\n",
       "75%         3.700000\n",
       "max         4.900000\n",
       "Name: Aggregate rating, dtype: float64"
      ]
     },
     "execution_count": 7,
     "metadata": {},
     "output_type": "execute_result"
    }
   ],
   "source": [
    "df[\"Aggregate rating\"].describe()"
   ]
  },
  {
   "cell_type": "code",
   "execution_count": 8,
   "id": "4b95bad4",
   "metadata": {},
   "outputs": [
    {
     "data": {
      "text/plain": [
       "(np.float64(3.4419689119170984), np.float64(2.559358989634219))"
      ]
     },
     "execution_count": 8,
     "metadata": {},
     "output_type": "execute_result"
    }
   ],
   "source": [
    "df[\"Aggregate rating\"][df[\"Has Table booking\"]==\"Yes\"].mean(), df[\"Aggregate rating\"][df[\"Has Table booking\"]==\"No\"].mean()"
   ]
  },
  {
   "cell_type": "markdown",
   "id": "c8c3a758",
   "metadata": {},
   "source": [
    "Analyze the availability of online delivery among restaurants with different price ranges."
   ]
  },
  {
   "cell_type": "code",
   "execution_count": 9,
   "id": "42944c16",
   "metadata": {},
   "outputs": [
    {
     "data": {
      "text/plain": [
       "count    9551.000000\n",
       "mean        1.804837\n",
       "std         0.905609\n",
       "min         1.000000\n",
       "25%         1.000000\n",
       "50%         2.000000\n",
       "75%         2.000000\n",
       "max         4.000000\n",
       "Name: Price range, dtype: float64"
      ]
     },
     "execution_count": 9,
     "metadata": {},
     "output_type": "execute_result"
    }
   ],
   "source": [
    "df[\"Price range\"].describe()"
   ]
  },
  {
   "cell_type": "code",
   "execution_count": 10,
   "id": "929fd01d",
   "metadata": {},
   "outputs": [
    {
     "data": {
      "text/plain": [
       "array([3, 4, 2, 1])"
      ]
     },
     "execution_count": 10,
     "metadata": {},
     "output_type": "execute_result"
    }
   ],
   "source": [
    "df[\"Price range\"].unique()"
   ]
  },
  {
   "cell_type": "code",
   "execution_count": 11,
   "id": "28b3010f",
   "metadata": {},
   "outputs": [
    {
     "data": {
      "text/plain": [
       "'\\nNote that as price range increases Online delivery decreases. This can be possibly because in higher price restraunts\\nor so called elite/posh restraunts the usual customers are elites and businessmen who prefer to visit the place\\nfor meetings etc rather than getting food delivered to their home.\\n'"
      ]
     },
     "execution_count": 11,
     "metadata": {},
     "output_type": "execute_result"
    }
   ],
   "source": [
    "df[[\"Has Online delivery\", \"Price range\"]].groupby(by=\"Price range\").value_counts().reset_index()\n",
    "\n",
    "\n",
    "\"\"\"\n",
    "Note that as price range increases Online delivery decreases. This can be possibly because in higher price restraunts\n",
    "or so called elite/posh restraunts the usual customers are elites and businessmen who prefer to visit the place\n",
    "for meetings etc rather than getting food delivered to their home.\n",
    "\"\"\"\n"
   ]
  },
  {
   "cell_type": "markdown",
   "id": "466e2f71",
   "metadata": {},
   "source": [
    "# Level2 Task2\n",
    "# Price Range Analysis"
   ]
  },
  {
   "cell_type": "markdown",
   "id": "7eccac80",
   "metadata": {},
   "source": [
    "Determine the most common price range among all the restaurants."
   ]
  },
  {
   "cell_type": "code",
   "execution_count": 12,
   "id": "19bc277e",
   "metadata": {},
   "outputs": [
    {
     "data": {
      "text/plain": [
       "0    1\n",
       "Name: Price range, dtype: int64"
      ]
     },
     "execution_count": 12,
     "metadata": {},
     "output_type": "execute_result"
    }
   ],
   "source": [
    "df[\"Price range\"].mode()"
   ]
  },
  {
   "cell_type": "markdown",
   "id": "7953d014",
   "metadata": {},
   "source": [
    "Calculate the average rating for each price range."
   ]
  },
  {
   "cell_type": "code",
   "execution_count": 13,
   "id": "afc67f16",
   "metadata": {},
   "outputs": [
    {
     "data": {
      "text/html": [
       "<div>\n",
       "<style scoped>\n",
       "    .dataframe tbody tr th:only-of-type {\n",
       "        vertical-align: middle;\n",
       "    }\n",
       "\n",
       "    .dataframe tbody tr th {\n",
       "        vertical-align: top;\n",
       "    }\n",
       "\n",
       "    .dataframe thead th {\n",
       "        text-align: right;\n",
       "    }\n",
       "</style>\n",
       "<table border=\"1\" class=\"dataframe\">\n",
       "  <thead>\n",
       "    <tr style=\"text-align: right;\">\n",
       "      <th></th>\n",
       "      <th>Price range</th>\n",
       "      <th>Average Rating</th>\n",
       "    </tr>\n",
       "  </thead>\n",
       "  <tbody>\n",
       "    <tr>\n",
       "      <th>0</th>\n",
       "      <td>1</td>\n",
       "      <td>1.999887</td>\n",
       "    </tr>\n",
       "    <tr>\n",
       "      <th>1</th>\n",
       "      <td>2</td>\n",
       "      <td>2.941054</td>\n",
       "    </tr>\n",
       "    <tr>\n",
       "      <th>2</th>\n",
       "      <td>3</td>\n",
       "      <td>3.683381</td>\n",
       "    </tr>\n",
       "    <tr>\n",
       "      <th>3</th>\n",
       "      <td>4</td>\n",
       "      <td>3.817918</td>\n",
       "    </tr>\n",
       "  </tbody>\n",
       "</table>\n",
       "</div>"
      ],
      "text/plain": [
       "   Price range  Average Rating\n",
       "0            1        1.999887\n",
       "1            2        2.941054\n",
       "2            3        3.683381\n",
       "3            4        3.817918"
      ]
     },
     "execution_count": 13,
     "metadata": {},
     "output_type": "execute_result"
    }
   ],
   "source": [
    "df[[\"Price range\", \"Aggregate rating\"]].groupby(by=\"Price range\").mean().reset_index().rename(columns={\"Aggregate rating\": \"Average Rating\"})"
   ]
  },
  {
   "cell_type": "markdown",
   "id": "6ea0c6c0",
   "metadata": {},
   "source": [
    "Identify the color that represents the highest average rating among different price ranges."
   ]
  },
  {
   "cell_type": "code",
   "execution_count": 14,
   "id": "2d916d4d",
   "metadata": {},
   "outputs": [],
   "source": [
    "rating_df = df[[\"Price range\", \"Aggregate rating\", \"Rating color\"]]"
   ]
  },
  {
   "cell_type": "code",
   "execution_count": 15,
   "id": "2d54b863",
   "metadata": {},
   "outputs": [
    {
     "data": {
      "text/plain": [
       "array(['Dark Green', 'Green', 'Yellow', 'Orange', 'White', 'Red'],\n",
       "      dtype=object)"
      ]
     },
     "execution_count": 15,
     "metadata": {},
     "output_type": "execute_result"
    }
   ],
   "source": [
    "df[\"Rating color\"].unique()"
   ]
  },
  {
   "cell_type": "code",
   "execution_count": 16,
   "id": "7c05d0fc",
   "metadata": {},
   "outputs": [
    {
     "data": {
      "text/html": [
       "<div>\n",
       "<style scoped>\n",
       "    .dataframe tbody tr th:only-of-type {\n",
       "        vertical-align: middle;\n",
       "    }\n",
       "\n",
       "    .dataframe tbody tr th {\n",
       "        vertical-align: top;\n",
       "    }\n",
       "\n",
       "    .dataframe thead th {\n",
       "        text-align: right;\n",
       "    }\n",
       "</style>\n",
       "<table border=\"1\" class=\"dataframe\">\n",
       "  <thead>\n",
       "    <tr style=\"text-align: right;\">\n",
       "      <th></th>\n",
       "      <th>Price range</th>\n",
       "      <th>Aggregate rating</th>\n",
       "    </tr>\n",
       "  </thead>\n",
       "  <tbody>\n",
       "    <tr>\n",
       "      <th>0</th>\n",
       "      <td>1</td>\n",
       "      <td>1.999887</td>\n",
       "    </tr>\n",
       "    <tr>\n",
       "      <th>1</th>\n",
       "      <td>2</td>\n",
       "      <td>2.941054</td>\n",
       "    </tr>\n",
       "    <tr>\n",
       "      <th>2</th>\n",
       "      <td>3</td>\n",
       "      <td>3.683381</td>\n",
       "    </tr>\n",
       "    <tr>\n",
       "      <th>3</th>\n",
       "      <td>4</td>\n",
       "      <td>3.817918</td>\n",
       "    </tr>\n",
       "  </tbody>\n",
       "</table>\n",
       "</div>"
      ],
      "text/plain": [
       "   Price range  Aggregate rating\n",
       "0            1          1.999887\n",
       "1            2          2.941054\n",
       "2            3          3.683381\n",
       "3            4          3.817918"
      ]
     },
     "execution_count": 16,
     "metadata": {},
     "output_type": "execute_result"
    }
   ],
   "source": [
    "average_ratings = rating_df.groupby(\"Price range\")[\"Aggregate rating\"].mean().reset_index()\n",
    "average_ratings"
   ]
  },
  {
   "cell_type": "code",
   "execution_count": 19,
   "id": "4462f368",
   "metadata": {},
   "outputs": [
    {
     "data": {
      "text/html": [
       "<div>\n",
       "<style scoped>\n",
       "    .dataframe tbody tr th:only-of-type {\n",
       "        vertical-align: middle;\n",
       "    }\n",
       "\n",
       "    .dataframe tbody tr th {\n",
       "        vertical-align: top;\n",
       "    }\n",
       "\n",
       "    .dataframe thead th {\n",
       "        text-align: right;\n",
       "    }\n",
       "</style>\n",
       "<table border=\"1\" class=\"dataframe\">\n",
       "  <thead>\n",
       "    <tr style=\"text-align: right;\">\n",
       "      <th></th>\n",
       "      <th>Price range</th>\n",
       "      <th>Aggregate rating</th>\n",
       "      <th>Rating color</th>\n",
       "    </tr>\n",
       "  </thead>\n",
       "  <tbody>\n",
       "    <tr>\n",
       "      <th>0</th>\n",
       "      <td>1</td>\n",
       "      <td>1.999887</td>\n",
       "      <td>Yellow</td>\n",
       "    </tr>\n",
       "    <tr>\n",
       "      <th>1</th>\n",
       "      <td>1</td>\n",
       "      <td>1.999887</td>\n",
       "      <td>White</td>\n",
       "    </tr>\n",
       "    <tr>\n",
       "      <th>2</th>\n",
       "      <td>1</td>\n",
       "      <td>1.999887</td>\n",
       "      <td>Orange</td>\n",
       "    </tr>\n",
       "    <tr>\n",
       "      <th>3</th>\n",
       "      <td>1</td>\n",
       "      <td>1.999887</td>\n",
       "      <td>Dark Green</td>\n",
       "    </tr>\n",
       "    <tr>\n",
       "      <th>4</th>\n",
       "      <td>1</td>\n",
       "      <td>1.999887</td>\n",
       "      <td>Green</td>\n",
       "    </tr>\n",
       "    <tr>\n",
       "      <th>5</th>\n",
       "      <td>1</td>\n",
       "      <td>1.999887</td>\n",
       "      <td>Red</td>\n",
       "    </tr>\n",
       "    <tr>\n",
       "      <th>6</th>\n",
       "      <td>2</td>\n",
       "      <td>2.941054</td>\n",
       "      <td>Dark Green</td>\n",
       "    </tr>\n",
       "    <tr>\n",
       "      <th>7</th>\n",
       "      <td>2</td>\n",
       "      <td>2.941054</td>\n",
       "      <td>Orange</td>\n",
       "    </tr>\n",
       "    <tr>\n",
       "      <th>8</th>\n",
       "      <td>2</td>\n",
       "      <td>2.941054</td>\n",
       "      <td>Yellow</td>\n",
       "    </tr>\n",
       "    <tr>\n",
       "      <th>9</th>\n",
       "      <td>2</td>\n",
       "      <td>2.941054</td>\n",
       "      <td>Green</td>\n",
       "    </tr>\n",
       "    <tr>\n",
       "      <th>10</th>\n",
       "      <td>2</td>\n",
       "      <td>2.941054</td>\n",
       "      <td>White</td>\n",
       "    </tr>\n",
       "    <tr>\n",
       "      <th>11</th>\n",
       "      <td>2</td>\n",
       "      <td>2.941054</td>\n",
       "      <td>Red</td>\n",
       "    </tr>\n",
       "    <tr>\n",
       "      <th>12</th>\n",
       "      <td>3</td>\n",
       "      <td>3.683381</td>\n",
       "      <td>Dark Green</td>\n",
       "    </tr>\n",
       "    <tr>\n",
       "      <th>13</th>\n",
       "      <td>3</td>\n",
       "      <td>3.683381</td>\n",
       "      <td>Green</td>\n",
       "    </tr>\n",
       "    <tr>\n",
       "      <th>14</th>\n",
       "      <td>3</td>\n",
       "      <td>3.683381</td>\n",
       "      <td>Yellow</td>\n",
       "    </tr>\n",
       "    <tr>\n",
       "      <th>15</th>\n",
       "      <td>3</td>\n",
       "      <td>3.683381</td>\n",
       "      <td>Orange</td>\n",
       "    </tr>\n",
       "    <tr>\n",
       "      <th>16</th>\n",
       "      <td>3</td>\n",
       "      <td>3.683381</td>\n",
       "      <td>White</td>\n",
       "    </tr>\n",
       "    <tr>\n",
       "      <th>17</th>\n",
       "      <td>3</td>\n",
       "      <td>3.683381</td>\n",
       "      <td>Red</td>\n",
       "    </tr>\n",
       "    <tr>\n",
       "      <th>18</th>\n",
       "      <td>4</td>\n",
       "      <td>3.817918</td>\n",
       "      <td>Green</td>\n",
       "    </tr>\n",
       "    <tr>\n",
       "      <th>19</th>\n",
       "      <td>4</td>\n",
       "      <td>3.817918</td>\n",
       "      <td>Dark Green</td>\n",
       "    </tr>\n",
       "    <tr>\n",
       "      <th>20</th>\n",
       "      <td>4</td>\n",
       "      <td>3.817918</td>\n",
       "      <td>Yellow</td>\n",
       "    </tr>\n",
       "    <tr>\n",
       "      <th>21</th>\n",
       "      <td>4</td>\n",
       "      <td>3.817918</td>\n",
       "      <td>Orange</td>\n",
       "    </tr>\n",
       "    <tr>\n",
       "      <th>22</th>\n",
       "      <td>4</td>\n",
       "      <td>3.817918</td>\n",
       "      <td>White</td>\n",
       "    </tr>\n",
       "    <tr>\n",
       "      <th>23</th>\n",
       "      <td>4</td>\n",
       "      <td>3.817918</td>\n",
       "      <td>Red</td>\n",
       "    </tr>\n",
       "  </tbody>\n",
       "</table>\n",
       "</div>"
      ],
      "text/plain": [
       "    Price range  Aggregate rating Rating color\n",
       "0             1          1.999887       Yellow\n",
       "1             1          1.999887        White\n",
       "2             1          1.999887       Orange\n",
       "3             1          1.999887   Dark Green\n",
       "4             1          1.999887        Green\n",
       "5             1          1.999887          Red\n",
       "6             2          2.941054   Dark Green\n",
       "7             2          2.941054       Orange\n",
       "8             2          2.941054       Yellow\n",
       "9             2          2.941054        Green\n",
       "10            2          2.941054        White\n",
       "11            2          2.941054          Red\n",
       "12            3          3.683381   Dark Green\n",
       "13            3          3.683381        Green\n",
       "14            3          3.683381       Yellow\n",
       "15            3          3.683381       Orange\n",
       "16            3          3.683381        White\n",
       "17            3          3.683381          Red\n",
       "18            4          3.817918        Green\n",
       "19            4          3.817918   Dark Green\n",
       "20            4          3.817918       Yellow\n",
       "21            4          3.817918       Orange\n",
       "22            4          3.817918        White\n",
       "23            4          3.817918          Red"
      ]
     },
     "execution_count": 19,
     "metadata": {},
     "output_type": "execute_result"
    }
   ],
   "source": [
    "result = pd.merge(average_ratings, rating_df[[\"Price range\", \"Rating color\"]].drop_duplicates(), on=\"Price range\")\n",
    "result"
   ]
  },
  {
   "cell_type": "code",
   "execution_count": 20,
   "id": "a828f4e9",
   "metadata": {},
   "outputs": [
    {
     "data": {
      "text/plain": [
       "Price range                4\n",
       "Aggregate rating    3.817918\n",
       "Rating color           Green\n",
       "Name: 18, dtype: object"
      ]
     },
     "execution_count": 20,
     "metadata": {},
     "output_type": "execute_result"
    }
   ],
   "source": [
    "highest_avg_rating = result.loc[result[\"Aggregate rating\"].idxmax()]\n",
    "highest_avg_rating"
   ]
  },
  {
   "cell_type": "markdown",
   "id": "135e27bd",
   "metadata": {},
   "source": [
    "# Level2 Task3\n",
    "# Feature Engineering"
   ]
  },
  {
   "cell_type": "markdown",
   "id": "19f0f72c",
   "metadata": {},
   "source": [
    "Extract additional features from the existingcolumns, such as the length of the restaurantname or address."
   ]
  },
  {
   "cell_type": "code",
   "execution_count": 21,
   "id": "7d23802c",
   "metadata": {},
   "outputs": [
    {
     "data": {
      "text/html": [
       "<div>\n",
       "<style scoped>\n",
       "    .dataframe tbody tr th:only-of-type {\n",
       "        vertical-align: middle;\n",
       "    }\n",
       "\n",
       "    .dataframe tbody tr th {\n",
       "        vertical-align: top;\n",
       "    }\n",
       "\n",
       "    .dataframe thead th {\n",
       "        text-align: right;\n",
       "    }\n",
       "</style>\n",
       "<table border=\"1\" class=\"dataframe\">\n",
       "  <thead>\n",
       "    <tr style=\"text-align: right;\">\n",
       "      <th></th>\n",
       "      <th>Restaurant ID</th>\n",
       "      <th>Restaurant Name</th>\n",
       "      <th>Country Code</th>\n",
       "      <th>City</th>\n",
       "      <th>Address</th>\n",
       "      <th>Locality</th>\n",
       "      <th>Locality Verbose</th>\n",
       "      <th>Longitude</th>\n",
       "      <th>Latitude</th>\n",
       "      <th>Cuisines</th>\n",
       "      <th>Average Cost for two</th>\n",
       "      <th>Currency</th>\n",
       "      <th>Has Table booking</th>\n",
       "      <th>Has Online delivery</th>\n",
       "      <th>Is delivering now</th>\n",
       "      <th>Switch to order menu</th>\n",
       "      <th>Price range</th>\n",
       "      <th>Aggregate rating</th>\n",
       "      <th>Rating color</th>\n",
       "      <th>Rating text</th>\n",
       "      <th>Votes</th>\n",
       "    </tr>\n",
       "  </thead>\n",
       "  <tbody>\n",
       "    <tr>\n",
       "      <th>6024</th>\n",
       "      <td>305135</td>\n",
       "      <td>Le Fairway Restaurant &amp; Bar</td>\n",
       "      <td>1</td>\n",
       "      <td>New Delhi</td>\n",
       "      <td>Hotel Le Roi 2206, Rajguru Road, Chuna Mandi, ...</td>\n",
       "      <td>Paharganj</td>\n",
       "      <td>Paharganj, New Delhi</td>\n",
       "      <td>77.210778</td>\n",
       "      <td>28.644237</td>\n",
       "      <td>North Indian, Continental</td>\n",
       "      <td>1000</td>\n",
       "      <td>Indian Rupees(Rs.)</td>\n",
       "      <td>Yes</td>\n",
       "      <td>No</td>\n",
       "      <td>No</td>\n",
       "      <td>No</td>\n",
       "      <td>3</td>\n",
       "      <td>3.1</td>\n",
       "      <td>Orange</td>\n",
       "      <td>Average</td>\n",
       "      <td>17</td>\n",
       "    </tr>\n",
       "  </tbody>\n",
       "</table>\n",
       "</div>"
      ],
      "text/plain": [
       "      Restaurant ID              Restaurant Name  Country Code       City  \\\n",
       "6024         305135  Le Fairway Restaurant & Bar             1  New Delhi   \n",
       "\n",
       "                                                Address   Locality  \\\n",
       "6024  Hotel Le Roi 2206, Rajguru Road, Chuna Mandi, ...  Paharganj   \n",
       "\n",
       "          Locality Verbose  Longitude   Latitude                   Cuisines  \\\n",
       "6024  Paharganj, New Delhi  77.210778  28.644237  North Indian, Continental   \n",
       "\n",
       "      Average Cost for two            Currency Has Table booking  \\\n",
       "6024                  1000  Indian Rupees(Rs.)               Yes   \n",
       "\n",
       "     Has Online delivery Is delivering now Switch to order menu  Price range  \\\n",
       "6024                  No                No                   No            3   \n",
       "\n",
       "      Aggregate rating Rating color Rating text  Votes  \n",
       "6024               3.1       Orange     Average     17  "
      ]
     },
     "execution_count": 21,
     "metadata": {},
     "output_type": "execute_result"
    }
   ],
   "source": [
    "df.sample()"
   ]
  },
  {
   "cell_type": "code",
   "execution_count": null,
   "id": "8a90f6ab",
   "metadata": {},
   "outputs": [
    {
     "data": {
      "text/html": [
       "<div>\n",
       "<style scoped>\n",
       "    .dataframe tbody tr th:only-of-type {\n",
       "        vertical-align: middle;\n",
       "    }\n",
       "\n",
       "    .dataframe tbody tr th {\n",
       "        vertical-align: top;\n",
       "    }\n",
       "\n",
       "    .dataframe thead th {\n",
       "        text-align: right;\n",
       "    }\n",
       "</style>\n",
       "<table border=\"1\" class=\"dataframe\">\n",
       "  <thead>\n",
       "    <tr style=\"text-align: right;\">\n",
       "      <th></th>\n",
       "      <th>Restaurant ID</th>\n",
       "      <th>Restaurant Name</th>\n",
       "      <th>Country Code</th>\n",
       "      <th>City</th>\n",
       "      <th>Address</th>\n",
       "      <th>Locality</th>\n",
       "      <th>Locality Verbose</th>\n",
       "      <th>Longitude</th>\n",
       "      <th>Latitude</th>\n",
       "      <th>Cuisines</th>\n",
       "      <th>Average Cost for two</th>\n",
       "      <th>Currency</th>\n",
       "      <th>Has Table booking</th>\n",
       "      <th>Has Online delivery</th>\n",
       "      <th>Is delivering now</th>\n",
       "      <th>Switch to order menu</th>\n",
       "      <th>Price range</th>\n",
       "      <th>Aggregate rating</th>\n",
       "      <th>Rating color</th>\n",
       "      <th>Rating text</th>\n",
       "      <th>Votes</th>\n",
       "      <th>name length</th>\n",
       "    </tr>\n",
       "  </thead>\n",
       "  <tbody>\n",
       "    <tr>\n",
       "      <th>715</th>\n",
       "      <td>2500079</td>\n",
       "      <td>d' Curry House</td>\n",
       "      <td>1</td>\n",
       "      <td>Aurangabad</td>\n",
       "      <td>Hotel Green Olive, Near Baba Petrol Pump, Nira...</td>\n",
       "      <td>Hotel Green Olive, Nirala Bazar</td>\n",
       "      <td>Hotel Green Olive, Nirala Bazar, Aurangabad</td>\n",
       "      <td>75.316722</td>\n",
       "      <td>19.875337</td>\n",
       "      <td>Continental, Chinese, Biryani, North Indian</td>\n",
       "      <td>1000</td>\n",
       "      <td>Indian Rupees(Rs.)</td>\n",
       "      <td>No</td>\n",
       "      <td>No</td>\n",
       "      <td>No</td>\n",
       "      <td>No</td>\n",
       "      <td>3</td>\n",
       "      <td>3.6</td>\n",
       "      <td>Yellow</td>\n",
       "      <td>Good</td>\n",
       "      <td>73</td>\n",
       "      <td>14</td>\n",
       "    </tr>\n",
       "  </tbody>\n",
       "</table>\n",
       "</div>"
      ],
      "text/plain": [
       "     Restaurant ID Restaurant Name  Country Code        City  \\\n",
       "715        2500079  d' Curry House             1  Aurangabad   \n",
       "\n",
       "                                               Address  \\\n",
       "715  Hotel Green Olive, Near Baba Petrol Pump, Nira...   \n",
       "\n",
       "                            Locality  \\\n",
       "715  Hotel Green Olive, Nirala Bazar   \n",
       "\n",
       "                                Locality Verbose  Longitude   Latitude  \\\n",
       "715  Hotel Green Olive, Nirala Bazar, Aurangabad  75.316722  19.875337   \n",
       "\n",
       "                                        Cuisines  Average Cost for two  \\\n",
       "715  Continental, Chinese, Biryani, North Indian                  1000   \n",
       "\n",
       "               Currency Has Table booking Has Online delivery  \\\n",
       "715  Indian Rupees(Rs.)                No                  No   \n",
       "\n",
       "    Is delivering now Switch to order menu  Price range  Aggregate rating  \\\n",
       "715                No                   No            3               3.6   \n",
       "\n",
       "    Rating color Rating text  Votes  name length  \n",
       "715       Yellow        Good     73           14  "
      ]
     },
     "execution_count": 22,
     "metadata": {},
     "output_type": "execute_result"
    }
   ],
   "source": [
    "df[\"name length\"] = df[\"Restaurant Name\"].apply(len)\n",
    "\n",
    "df.sample()"
   ]
  },
  {
   "cell_type": "code",
   "execution_count": 23,
   "id": "892103ad",
   "metadata": {},
   "outputs": [
    {
     "data": {
      "text/html": [
       "<div>\n",
       "<style scoped>\n",
       "    .dataframe tbody tr th:only-of-type {\n",
       "        vertical-align: middle;\n",
       "    }\n",
       "\n",
       "    .dataframe tbody tr th {\n",
       "        vertical-align: top;\n",
       "    }\n",
       "\n",
       "    .dataframe thead th {\n",
       "        text-align: right;\n",
       "    }\n",
       "</style>\n",
       "<table border=\"1\" class=\"dataframe\">\n",
       "  <thead>\n",
       "    <tr style=\"text-align: right;\">\n",
       "      <th></th>\n",
       "      <th>Restaurant ID</th>\n",
       "      <th>Restaurant Name</th>\n",
       "      <th>Country Code</th>\n",
       "      <th>City</th>\n",
       "      <th>Address</th>\n",
       "      <th>Locality</th>\n",
       "      <th>Locality Verbose</th>\n",
       "      <th>Longitude</th>\n",
       "      <th>Latitude</th>\n",
       "      <th>Cuisines</th>\n",
       "      <th>Average Cost for two</th>\n",
       "      <th>Currency</th>\n",
       "      <th>Has Table booking</th>\n",
       "      <th>Has Online delivery</th>\n",
       "      <th>Is delivering now</th>\n",
       "      <th>Switch to order menu</th>\n",
       "      <th>Price range</th>\n",
       "      <th>Aggregate rating</th>\n",
       "      <th>Rating color</th>\n",
       "      <th>Rating text</th>\n",
       "      <th>Votes</th>\n",
       "      <th>name length</th>\n",
       "      <th>address length</th>\n",
       "    </tr>\n",
       "  </thead>\n",
       "  <tbody>\n",
       "    <tr>\n",
       "      <th>4074</th>\n",
       "      <td>18440175</td>\n",
       "      <td>Radhey Radhey Foods</td>\n",
       "      <td>1</td>\n",
       "      <td>New Delhi</td>\n",
       "      <td>D-500, West Vinod Nagar, Near Apex Hospital, I...</td>\n",
       "      <td>IP Extension</td>\n",
       "      <td>IP Extension, New Delhi</td>\n",
       "      <td>77.302966</td>\n",
       "      <td>28.626482</td>\n",
       "      <td>North Indian</td>\n",
       "      <td>500</td>\n",
       "      <td>Indian Rupees(Rs.)</td>\n",
       "      <td>No</td>\n",
       "      <td>No</td>\n",
       "      <td>No</td>\n",
       "      <td>No</td>\n",
       "      <td>2</td>\n",
       "      <td>0.0</td>\n",
       "      <td>White</td>\n",
       "      <td>Not rated</td>\n",
       "      <td>2</td>\n",
       "      <td>19</td>\n",
       "      <td>68</td>\n",
       "    </tr>\n",
       "  </tbody>\n",
       "</table>\n",
       "</div>"
      ],
      "text/plain": [
       "      Restaurant ID      Restaurant Name  Country Code       City  \\\n",
       "4074       18440175  Radhey Radhey Foods             1  New Delhi   \n",
       "\n",
       "                                                Address      Locality  \\\n",
       "4074  D-500, West Vinod Nagar, Near Apex Hospital, I...  IP Extension   \n",
       "\n",
       "             Locality Verbose  Longitude   Latitude      Cuisines  \\\n",
       "4074  IP Extension, New Delhi  77.302966  28.626482  North Indian   \n",
       "\n",
       "      Average Cost for two            Currency Has Table booking  \\\n",
       "4074                   500  Indian Rupees(Rs.)                No   \n",
       "\n",
       "     Has Online delivery Is delivering now Switch to order menu  Price range  \\\n",
       "4074                  No                No                   No            2   \n",
       "\n",
       "      Aggregate rating Rating color Rating text  Votes  name length  \\\n",
       "4074               0.0        White   Not rated      2           19   \n",
       "\n",
       "      address length  \n",
       "4074              68  "
      ]
     },
     "execution_count": 23,
     "metadata": {},
     "output_type": "execute_result"
    }
   ],
   "source": [
    "df[\"address length\"] = df[\"Address\"].apply(len)\n",
    "\n",
    "df.sample()"
   ]
  },
  {
   "cell_type": "markdown",
   "id": "8e128186",
   "metadata": {},
   "source": [
    "Create new features like \"Has Table Booking\" or \"Has Online Delivery\" by encoding categorical variables."
   ]
  },
  {
   "cell_type": "code",
   "execution_count": 24,
   "id": "bfe397fa",
   "metadata": {},
   "outputs": [],
   "source": [
    "def encoder(x):\n",
    "    if x==\"No\":\n",
    "        return 0\n",
    "    else:\n",
    "        return 1"
   ]
  },
  {
   "cell_type": "code",
   "execution_count": 25,
   "id": "12ff941e",
   "metadata": {},
   "outputs": [
    {
     "data": {
      "text/html": [
       "<div>\n",
       "<style scoped>\n",
       "    .dataframe tbody tr th:only-of-type {\n",
       "        vertical-align: middle;\n",
       "    }\n",
       "\n",
       "    .dataframe tbody tr th {\n",
       "        vertical-align: top;\n",
       "    }\n",
       "\n",
       "    .dataframe thead th {\n",
       "        text-align: right;\n",
       "    }\n",
       "</style>\n",
       "<table border=\"1\" class=\"dataframe\">\n",
       "  <thead>\n",
       "    <tr style=\"text-align: right;\">\n",
       "      <th></th>\n",
       "      <th>Restaurant ID</th>\n",
       "      <th>Restaurant Name</th>\n",
       "      <th>Country Code</th>\n",
       "      <th>City</th>\n",
       "      <th>Address</th>\n",
       "      <th>Locality</th>\n",
       "      <th>Locality Verbose</th>\n",
       "      <th>Longitude</th>\n",
       "      <th>Latitude</th>\n",
       "      <th>Cuisines</th>\n",
       "      <th>Average Cost for two</th>\n",
       "      <th>Currency</th>\n",
       "      <th>Has Table booking</th>\n",
       "      <th>Has Online delivery</th>\n",
       "      <th>Is delivering now</th>\n",
       "      <th>Switch to order menu</th>\n",
       "      <th>Price range</th>\n",
       "      <th>Aggregate rating</th>\n",
       "      <th>Rating color</th>\n",
       "      <th>Rating text</th>\n",
       "      <th>Votes</th>\n",
       "      <th>name length</th>\n",
       "      <th>address length</th>\n",
       "    </tr>\n",
       "  </thead>\n",
       "  <tbody>\n",
       "    <tr>\n",
       "      <th>7796</th>\n",
       "      <td>18376497</td>\n",
       "      <td>Always Eat Green</td>\n",
       "      <td>1</td>\n",
       "      <td>New Delhi</td>\n",
       "      <td>A-60 New Ashok Nagar, Vasundhara Enclave, New ...</td>\n",
       "      <td>Vasundhara Enclave</td>\n",
       "      <td>Vasundhara Enclave, New Delhi</td>\n",
       "      <td>77.307898</td>\n",
       "      <td>28.590123</td>\n",
       "      <td>North Indian, South Indian, Chinese</td>\n",
       "      <td>300</td>\n",
       "      <td>Indian Rupees(Rs.)</td>\n",
       "      <td>0</td>\n",
       "      <td>No</td>\n",
       "      <td>No</td>\n",
       "      <td>No</td>\n",
       "      <td>1</td>\n",
       "      <td>0.0</td>\n",
       "      <td>White</td>\n",
       "      <td>Not rated</td>\n",
       "      <td>0</td>\n",
       "      <td>16</td>\n",
       "      <td>51</td>\n",
       "    </tr>\n",
       "  </tbody>\n",
       "</table>\n",
       "</div>"
      ],
      "text/plain": [
       "      Restaurant ID   Restaurant Name  Country Code       City  \\\n",
       "7796       18376497  Always Eat Green             1  New Delhi   \n",
       "\n",
       "                                                Address            Locality  \\\n",
       "7796  A-60 New Ashok Nagar, Vasundhara Enclave, New ...  Vasundhara Enclave   \n",
       "\n",
       "                   Locality Verbose  Longitude   Latitude  \\\n",
       "7796  Vasundhara Enclave, New Delhi  77.307898  28.590123   \n",
       "\n",
       "                                 Cuisines  Average Cost for two  \\\n",
       "7796  North Indian, South Indian, Chinese                   300   \n",
       "\n",
       "                Currency  Has Table booking Has Online delivery  \\\n",
       "7796  Indian Rupees(Rs.)                  0                  No   \n",
       "\n",
       "     Is delivering now Switch to order menu  Price range  Aggregate rating  \\\n",
       "7796                No                   No            1               0.0   \n",
       "\n",
       "     Rating color Rating text  Votes  name length  address length  \n",
       "7796        White   Not rated      0           16              51  "
      ]
     },
     "execution_count": 25,
     "metadata": {},
     "output_type": "execute_result"
    }
   ],
   "source": [
    "df[\"Has Table booking\"] = df[\"Has Table booking\"].apply(encoder)\n",
    "df.sample()"
   ]
  },
  {
   "cell_type": "code",
   "execution_count": 26,
   "id": "497416f2",
   "metadata": {},
   "outputs": [
    {
     "data": {
      "text/html": [
       "<div>\n",
       "<style scoped>\n",
       "    .dataframe tbody tr th:only-of-type {\n",
       "        vertical-align: middle;\n",
       "    }\n",
       "\n",
       "    .dataframe tbody tr th {\n",
       "        vertical-align: top;\n",
       "    }\n",
       "\n",
       "    .dataframe thead th {\n",
       "        text-align: right;\n",
       "    }\n",
       "</style>\n",
       "<table border=\"1\" class=\"dataframe\">\n",
       "  <thead>\n",
       "    <tr style=\"text-align: right;\">\n",
       "      <th></th>\n",
       "      <th>Restaurant ID</th>\n",
       "      <th>Restaurant Name</th>\n",
       "      <th>Country Code</th>\n",
       "      <th>City</th>\n",
       "      <th>Address</th>\n",
       "      <th>Locality</th>\n",
       "      <th>Locality Verbose</th>\n",
       "      <th>Longitude</th>\n",
       "      <th>Latitude</th>\n",
       "      <th>Cuisines</th>\n",
       "      <th>Average Cost for two</th>\n",
       "      <th>Currency</th>\n",
       "      <th>Has Table booking</th>\n",
       "      <th>Has Online delivery</th>\n",
       "      <th>Is delivering now</th>\n",
       "      <th>Switch to order menu</th>\n",
       "      <th>Price range</th>\n",
       "      <th>Aggregate rating</th>\n",
       "      <th>Rating color</th>\n",
       "      <th>Rating text</th>\n",
       "      <th>Votes</th>\n",
       "      <th>name length</th>\n",
       "      <th>address length</th>\n",
       "    </tr>\n",
       "  </thead>\n",
       "  <tbody>\n",
       "    <tr>\n",
       "      <th>5634</th>\n",
       "      <td>309471</td>\n",
       "      <td>Chinese Delights</td>\n",
       "      <td>1</td>\n",
       "      <td>New Delhi</td>\n",
       "      <td>12, DDA Commercial Complex, Munirka, New Delhi</td>\n",
       "      <td>Munirka</td>\n",
       "      <td>Munirka, New Delhi</td>\n",
       "      <td>77.175016</td>\n",
       "      <td>28.555671</td>\n",
       "      <td>Chinese, North Indian</td>\n",
       "      <td>400</td>\n",
       "      <td>Indian Rupees(Rs.)</td>\n",
       "      <td>0</td>\n",
       "      <td>1</td>\n",
       "      <td>No</td>\n",
       "      <td>No</td>\n",
       "      <td>1</td>\n",
       "      <td>3.5</td>\n",
       "      <td>Yellow</td>\n",
       "      <td>Good</td>\n",
       "      <td>21</td>\n",
       "      <td>16</td>\n",
       "      <td>46</td>\n",
       "    </tr>\n",
       "  </tbody>\n",
       "</table>\n",
       "</div>"
      ],
      "text/plain": [
       "      Restaurant ID   Restaurant Name  Country Code       City  \\\n",
       "5634         309471  Chinese Delights             1  New Delhi   \n",
       "\n",
       "                                             Address Locality  \\\n",
       "5634  12, DDA Commercial Complex, Munirka, New Delhi  Munirka   \n",
       "\n",
       "        Locality Verbose  Longitude   Latitude               Cuisines  \\\n",
       "5634  Munirka, New Delhi  77.175016  28.555671  Chinese, North Indian   \n",
       "\n",
       "      Average Cost for two            Currency  Has Table booking  \\\n",
       "5634                   400  Indian Rupees(Rs.)                  0   \n",
       "\n",
       "      Has Online delivery Is delivering now Switch to order menu  Price range  \\\n",
       "5634                    1                No                   No            1   \n",
       "\n",
       "      Aggregate rating Rating color Rating text  Votes  name length  \\\n",
       "5634               3.5       Yellow        Good     21           16   \n",
       "\n",
       "      address length  \n",
       "5634              46  "
      ]
     },
     "execution_count": 26,
     "metadata": {},
     "output_type": "execute_result"
    }
   ],
   "source": [
    "df[\"Has Online delivery\"] = df[\"Has Online delivery\"].apply(encoder)\n",
    "df.sample()"
   ]
  }
 ],
 "metadata": {
  "kernelspec": {
   "display_name": "Python 3",
   "language": "python",
   "name": "python3"
  },
  "language_info": {
   "codemirror_mode": {
    "name": "ipython",
    "version": 3
   },
   "file_extension": ".py",
   "mimetype": "text/x-python",
   "name": "python",
   "nbconvert_exporter": "python",
   "pygments_lexer": "ipython3",
   "version": "3.10.11"
  }
 },
 "nbformat": 4,
 "nbformat_minor": 5
}
