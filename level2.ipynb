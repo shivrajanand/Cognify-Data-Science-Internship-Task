{
 "cells": [
  {
   "cell_type": "markdown",
   "id": "ae717e20",
   "metadata": {},
   "source": [
    "# Level2 Task1\n",
    "# Table Booking and Online Delivery"
   ]
  },
  {
   "cell_type": "code",
   "execution_count": 24,
   "id": "50043311",
   "metadata": {},
   "outputs": [],
   "source": [
    "import pandas as pd\n",
    "df = pd.read_csv(\"Dataset .csv\")\n",
    "pd.set_option('display.max_columns', None)"
   ]
  },
  {
   "cell_type": "markdown",
   "id": "7493151b",
   "metadata": {},
   "source": [
    "Determine the percentage of restaurants thatoffer table booking and online delivery."
   ]
  },
  {
   "cell_type": "code",
   "execution_count": 25,
   "id": "0ce469b2",
   "metadata": {},
   "outputs": [
    {
     "data": {
      "text/html": [
       "<div>\n",
       "<style scoped>\n",
       "    .dataframe tbody tr th:only-of-type {\n",
       "        vertical-align: middle;\n",
       "    }\n",
       "\n",
       "    .dataframe tbody tr th {\n",
       "        vertical-align: top;\n",
       "    }\n",
       "\n",
       "    .dataframe thead th {\n",
       "        text-align: right;\n",
       "    }\n",
       "</style>\n",
       "<table border=\"1\" class=\"dataframe\">\n",
       "  <thead>\n",
       "    <tr style=\"text-align: right;\">\n",
       "      <th></th>\n",
       "      <th>Restaurant ID</th>\n",
       "      <th>Restaurant Name</th>\n",
       "      <th>Country Code</th>\n",
       "      <th>City</th>\n",
       "      <th>Address</th>\n",
       "      <th>Locality</th>\n",
       "      <th>Locality Verbose</th>\n",
       "      <th>Longitude</th>\n",
       "      <th>Latitude</th>\n",
       "      <th>Cuisines</th>\n",
       "      <th>Average Cost for two</th>\n",
       "      <th>Currency</th>\n",
       "      <th>Has Table booking</th>\n",
       "      <th>Has Online delivery</th>\n",
       "      <th>Is delivering now</th>\n",
       "      <th>Switch to order menu</th>\n",
       "      <th>Price range</th>\n",
       "      <th>Aggregate rating</th>\n",
       "      <th>Rating color</th>\n",
       "      <th>Rating text</th>\n",
       "      <th>Votes</th>\n",
       "    </tr>\n",
       "  </thead>\n",
       "  <tbody>\n",
       "    <tr>\n",
       "      <th>7139</th>\n",
       "      <td>18377919</td>\n",
       "      <td>Bikaner Sweets &amp; Restaurant</td>\n",
       "      <td>1</td>\n",
       "      <td>New Delhi</td>\n",
       "      <td>1/7228 A, Gorakh Park, Main Babarpur Road, Nea...</td>\n",
       "      <td>Shahdara</td>\n",
       "      <td>Shahdara, New Delhi</td>\n",
       "      <td>77.284943</td>\n",
       "      <td>28.68253</td>\n",
       "      <td>North Indian, Chinese, South Indian</td>\n",
       "      <td>300</td>\n",
       "      <td>Indian Rupees(Rs.)</td>\n",
       "      <td>No</td>\n",
       "      <td>No</td>\n",
       "      <td>No</td>\n",
       "      <td>No</td>\n",
       "      <td>1</td>\n",
       "      <td>0.0</td>\n",
       "      <td>White</td>\n",
       "      <td>Not rated</td>\n",
       "      <td>1</td>\n",
       "    </tr>\n",
       "  </tbody>\n",
       "</table>\n",
       "</div>"
      ],
      "text/plain": [
       "      Restaurant ID              Restaurant Name  Country Code       City  \\\n",
       "7139       18377919  Bikaner Sweets & Restaurant             1  New Delhi   \n",
       "\n",
       "                                                Address  Locality  \\\n",
       "7139  1/7228 A, Gorakh Park, Main Babarpur Road, Nea...  Shahdara   \n",
       "\n",
       "         Locality Verbose  Longitude  Latitude  \\\n",
       "7139  Shahdara, New Delhi  77.284943  28.68253   \n",
       "\n",
       "                                 Cuisines  Average Cost for two  \\\n",
       "7139  North Indian, Chinese, South Indian                   300   \n",
       "\n",
       "                Currency Has Table booking Has Online delivery  \\\n",
       "7139  Indian Rupees(Rs.)                No                  No   \n",
       "\n",
       "     Is delivering now Switch to order menu  Price range  Aggregate rating  \\\n",
       "7139                No                   No            1               0.0   \n",
       "\n",
       "     Rating color Rating text  Votes  \n",
       "7139        White   Not rated      1  "
      ]
     },
     "execution_count": 25,
     "metadata": {},
     "output_type": "execute_result"
    }
   ],
   "source": [
    "df.sample()"
   ]
  },
  {
   "cell_type": "code",
   "execution_count": 26,
   "id": "97e05050",
   "metadata": {},
   "outputs": [
    {
     "data": {
      "text/plain": [
       "(np.int64(9551), 9551)"
      ]
     },
     "execution_count": 26,
     "metadata": {},
     "output_type": "execute_result"
    }
   ],
   "source": [
    "df[\"Restaurant ID\"].count(),df[\"Restaurant ID\"].nunique()"
   ]
  },
  {
   "cell_type": "code",
   "execution_count": 27,
   "id": "35b57150",
   "metadata": {},
   "outputs": [
    {
     "name": "stdout",
     "output_type": "stream",
     "text": [
      "12.124384881164275\n"
     ]
    }
   ],
   "source": [
    "#Restraunts offering Table Booking Percentage\n",
    "print((df[\"Restaurant ID\"][df[\"Has Table booking\"]==\"Yes\"].count()/df[\"Restaurant ID\"].count())*100)"
   ]
  },
  {
   "cell_type": "code",
   "execution_count": 28,
   "id": "e9b39642",
   "metadata": {},
   "outputs": [
    {
     "name": "stdout",
     "output_type": "stream",
     "text": [
      "25.662234321013504\n"
     ]
    }
   ],
   "source": [
    "#Restraunts offering Online Delivery\n",
    "print((df[\"Restaurant ID\"][df[\"Has Online delivery\"]==\"Yes\"].count()/df[\"Restaurant ID\"].count())*100)"
   ]
  },
  {
   "cell_type": "markdown",
   "id": "18a5f639",
   "metadata": {},
   "source": [
    "Compare the average ratings of restaurants with table booking and those without."
   ]
  },
  {
   "cell_type": "code",
   "execution_count": 29,
   "id": "16468dd0",
   "metadata": {},
   "outputs": [
    {
     "data": {
      "text/plain": [
       "count    9551.000000\n",
       "mean        2.666370\n",
       "std         1.516378\n",
       "min         0.000000\n",
       "25%         2.500000\n",
       "50%         3.200000\n",
       "75%         3.700000\n",
       "max         4.900000\n",
       "Name: Aggregate rating, dtype: float64"
      ]
     },
     "execution_count": 29,
     "metadata": {},
     "output_type": "execute_result"
    }
   ],
   "source": [
    "df[\"Aggregate rating\"].describe()"
   ]
  },
  {
   "cell_type": "code",
   "execution_count": 30,
   "id": "4b95bad4",
   "metadata": {},
   "outputs": [
    {
     "data": {
      "text/plain": [
       "(np.float64(3.4419689119170984), np.float64(2.559358989634219))"
      ]
     },
     "execution_count": 30,
     "metadata": {},
     "output_type": "execute_result"
    }
   ],
   "source": [
    "df[\"Aggregate rating\"][df[\"Has Table booking\"]==\"Yes\"].mean(), df[\"Aggregate rating\"][df[\"Has Table booking\"]==\"No\"].mean()"
   ]
  },
  {
   "cell_type": "markdown",
   "id": "c8c3a758",
   "metadata": {},
   "source": [
    "Analyze the availability of online delivery among restaurants with different price ranges."
   ]
  },
  {
   "cell_type": "code",
   "execution_count": 31,
   "id": "42944c16",
   "metadata": {},
   "outputs": [
    {
     "data": {
      "text/plain": [
       "count    9551.000000\n",
       "mean        1.804837\n",
       "std         0.905609\n",
       "min         1.000000\n",
       "25%         1.000000\n",
       "50%         2.000000\n",
       "75%         2.000000\n",
       "max         4.000000\n",
       "Name: Price range, dtype: float64"
      ]
     },
     "execution_count": 31,
     "metadata": {},
     "output_type": "execute_result"
    }
   ],
   "source": [
    "df[\"Price range\"].describe()"
   ]
  },
  {
   "cell_type": "code",
   "execution_count": 32,
   "id": "929fd01d",
   "metadata": {},
   "outputs": [
    {
     "data": {
      "text/plain": [
       "array([3, 4, 2, 1])"
      ]
     },
     "execution_count": 32,
     "metadata": {},
     "output_type": "execute_result"
    }
   ],
   "source": [
    "df[\"Price range\"].unique()"
   ]
  },
  {
   "cell_type": "code",
   "execution_count": 33,
   "id": "28b3010f",
   "metadata": {},
   "outputs": [
    {
     "data": {
      "text/plain": [
       "'\\nNote that as price range increases Online delivery decreases. This can be possibly because in higher price restraunts\\nor so called elite/posh restraunts the usual customers are elites and businessmen who prefer to visit the place\\nfor meetings etc rather than getting food delivered to their home.\\n'"
      ]
     },
     "execution_count": 33,
     "metadata": {},
     "output_type": "execute_result"
    }
   ],
   "source": [
    "df[[\"Has Online delivery\", \"Price range\"]].groupby(by=\"Price range\").value_counts().reset_index()\n",
    "\n",
    "\n",
    "\"\"\"\n",
    "Note that as price range increases Online delivery decreases. This can be possibly because in higher price restraunts\n",
    "or so called elite/posh restraunts the usual customers are elites and businessmen who prefer to visit the place\n",
    "for meetings etc rather than getting food delivered to their home.\n",
    "\"\"\"\n"
   ]
  },
  {
   "cell_type": "markdown",
   "id": "466e2f71",
   "metadata": {},
   "source": [
    "# Level2 Task2\n",
    "# Price Range Analysis"
   ]
  },
  {
   "cell_type": "markdown",
   "id": "7eccac80",
   "metadata": {},
   "source": [
    "Determine the most common price range among all the restaurants."
   ]
  },
  {
   "cell_type": "code",
   "execution_count": 34,
   "id": "19bc277e",
   "metadata": {},
   "outputs": [
    {
     "data": {
      "text/plain": [
       "0    1\n",
       "Name: Price range, dtype: int64"
      ]
     },
     "execution_count": 34,
     "metadata": {},
     "output_type": "execute_result"
    }
   ],
   "source": [
    "df[\"Price range\"].mode()"
   ]
  },
  {
   "cell_type": "markdown",
   "id": "7953d014",
   "metadata": {},
   "source": [
    "Calculate the average rating for each price range."
   ]
  },
  {
   "cell_type": "code",
   "execution_count": 35,
   "id": "afc67f16",
   "metadata": {},
   "outputs": [
    {
     "data": {
      "text/html": [
       "<div>\n",
       "<style scoped>\n",
       "    .dataframe tbody tr th:only-of-type {\n",
       "        vertical-align: middle;\n",
       "    }\n",
       "\n",
       "    .dataframe tbody tr th {\n",
       "        vertical-align: top;\n",
       "    }\n",
       "\n",
       "    .dataframe thead th {\n",
       "        text-align: right;\n",
       "    }\n",
       "</style>\n",
       "<table border=\"1\" class=\"dataframe\">\n",
       "  <thead>\n",
       "    <tr style=\"text-align: right;\">\n",
       "      <th></th>\n",
       "      <th>Price range</th>\n",
       "      <th>Average Rating</th>\n",
       "    </tr>\n",
       "  </thead>\n",
       "  <tbody>\n",
       "    <tr>\n",
       "      <th>0</th>\n",
       "      <td>1</td>\n",
       "      <td>1.999887</td>\n",
       "    </tr>\n",
       "    <tr>\n",
       "      <th>1</th>\n",
       "      <td>2</td>\n",
       "      <td>2.941054</td>\n",
       "    </tr>\n",
       "    <tr>\n",
       "      <th>2</th>\n",
       "      <td>3</td>\n",
       "      <td>3.683381</td>\n",
       "    </tr>\n",
       "    <tr>\n",
       "      <th>3</th>\n",
       "      <td>4</td>\n",
       "      <td>3.817918</td>\n",
       "    </tr>\n",
       "  </tbody>\n",
       "</table>\n",
       "</div>"
      ],
      "text/plain": [
       "   Price range  Average Rating\n",
       "0            1        1.999887\n",
       "1            2        2.941054\n",
       "2            3        3.683381\n",
       "3            4        3.817918"
      ]
     },
     "execution_count": 35,
     "metadata": {},
     "output_type": "execute_result"
    }
   ],
   "source": [
    "df[[\"Price range\", \"Aggregate rating\"]].groupby(by=\"Price range\").mean().reset_index().rename(columns={\"Aggregate rating\": \"Average Rating\"})"
   ]
  },
  {
   "cell_type": "markdown",
   "id": "6ea0c6c0",
   "metadata": {},
   "source": [
    "Identify the color that represents the highest average rating among different price ranges."
   ]
  },
  {
   "cell_type": "code",
   "execution_count": 36,
   "id": "2d916d4d",
   "metadata": {},
   "outputs": [],
   "source": [
    "rating_df = df[[\"Price range\", \"Aggregate rating\", \"Rating color\"]]"
   ]
  },
  {
   "cell_type": "code",
   "execution_count": 37,
   "id": "2d54b863",
   "metadata": {},
   "outputs": [
    {
     "data": {
      "text/plain": [
       "array(['Dark Green', 'Green', 'Yellow', 'Orange', 'White', 'Red'],\n",
       "      dtype=object)"
      ]
     },
     "execution_count": 37,
     "metadata": {},
     "output_type": "execute_result"
    }
   ],
   "source": [
    "df[\"Rating color\"].unique()"
   ]
  },
  {
   "cell_type": "code",
   "execution_count": 38,
   "id": "7c05d0fc",
   "metadata": {},
   "outputs": [
    {
     "data": {
      "text/html": [
       "<div>\n",
       "<style scoped>\n",
       "    .dataframe tbody tr th:only-of-type {\n",
       "        vertical-align: middle;\n",
       "    }\n",
       "\n",
       "    .dataframe tbody tr th {\n",
       "        vertical-align: top;\n",
       "    }\n",
       "\n",
       "    .dataframe thead th {\n",
       "        text-align: right;\n",
       "    }\n",
       "</style>\n",
       "<table border=\"1\" class=\"dataframe\">\n",
       "  <thead>\n",
       "    <tr style=\"text-align: right;\">\n",
       "      <th></th>\n",
       "      <th>Price range</th>\n",
       "      <th>Aggregate rating</th>\n",
       "    </tr>\n",
       "  </thead>\n",
       "  <tbody>\n",
       "    <tr>\n",
       "      <th>0</th>\n",
       "      <td>1</td>\n",
       "      <td>1.999887</td>\n",
       "    </tr>\n",
       "    <tr>\n",
       "      <th>1</th>\n",
       "      <td>2</td>\n",
       "      <td>2.941054</td>\n",
       "    </tr>\n",
       "    <tr>\n",
       "      <th>2</th>\n",
       "      <td>3</td>\n",
       "      <td>3.683381</td>\n",
       "    </tr>\n",
       "    <tr>\n",
       "      <th>3</th>\n",
       "      <td>4</td>\n",
       "      <td>3.817918</td>\n",
       "    </tr>\n",
       "  </tbody>\n",
       "</table>\n",
       "</div>"
      ],
      "text/plain": [
       "   Price range  Aggregate rating\n",
       "0            1          1.999887\n",
       "1            2          2.941054\n",
       "2            3          3.683381\n",
       "3            4          3.817918"
      ]
     },
     "execution_count": 38,
     "metadata": {},
     "output_type": "execute_result"
    }
   ],
   "source": [
    "average_ratings = rating_df.groupby(\"Price range\")[\"Aggregate rating\"].mean().reset_index()\n",
    "average_ratings"
   ]
  },
  {
   "cell_type": "code",
   "execution_count": 39,
   "id": "4462f368",
   "metadata": {},
   "outputs": [
    {
     "data": {
      "text/html": [
       "<div>\n",
       "<style scoped>\n",
       "    .dataframe tbody tr th:only-of-type {\n",
       "        vertical-align: middle;\n",
       "    }\n",
       "\n",
       "    .dataframe tbody tr th {\n",
       "        vertical-align: top;\n",
       "    }\n",
       "\n",
       "    .dataframe thead th {\n",
       "        text-align: right;\n",
       "    }\n",
       "</style>\n",
       "<table border=\"1\" class=\"dataframe\">\n",
       "  <thead>\n",
       "    <tr style=\"text-align: right;\">\n",
       "      <th></th>\n",
       "      <th>Price range</th>\n",
       "      <th>Aggregate rating</th>\n",
       "      <th>Rating color</th>\n",
       "    </tr>\n",
       "  </thead>\n",
       "  <tbody>\n",
       "    <tr>\n",
       "      <th>0</th>\n",
       "      <td>1</td>\n",
       "      <td>1.999887</td>\n",
       "      <td>Yellow</td>\n",
       "    </tr>\n",
       "    <tr>\n",
       "      <th>1</th>\n",
       "      <td>1</td>\n",
       "      <td>1.999887</td>\n",
       "      <td>White</td>\n",
       "    </tr>\n",
       "    <tr>\n",
       "      <th>2</th>\n",
       "      <td>1</td>\n",
       "      <td>1.999887</td>\n",
       "      <td>Orange</td>\n",
       "    </tr>\n",
       "    <tr>\n",
       "      <th>3</th>\n",
       "      <td>1</td>\n",
       "      <td>1.999887</td>\n",
       "      <td>Dark Green</td>\n",
       "    </tr>\n",
       "    <tr>\n",
       "      <th>4</th>\n",
       "      <td>1</td>\n",
       "      <td>1.999887</td>\n",
       "      <td>Green</td>\n",
       "    </tr>\n",
       "    <tr>\n",
       "      <th>5</th>\n",
       "      <td>1</td>\n",
       "      <td>1.999887</td>\n",
       "      <td>Red</td>\n",
       "    </tr>\n",
       "    <tr>\n",
       "      <th>6</th>\n",
       "      <td>2</td>\n",
       "      <td>2.941054</td>\n",
       "      <td>Dark Green</td>\n",
       "    </tr>\n",
       "    <tr>\n",
       "      <th>7</th>\n",
       "      <td>2</td>\n",
       "      <td>2.941054</td>\n",
       "      <td>Orange</td>\n",
       "    </tr>\n",
       "    <tr>\n",
       "      <th>8</th>\n",
       "      <td>2</td>\n",
       "      <td>2.941054</td>\n",
       "      <td>Yellow</td>\n",
       "    </tr>\n",
       "    <tr>\n",
       "      <th>9</th>\n",
       "      <td>2</td>\n",
       "      <td>2.941054</td>\n",
       "      <td>Green</td>\n",
       "    </tr>\n",
       "    <tr>\n",
       "      <th>10</th>\n",
       "      <td>2</td>\n",
       "      <td>2.941054</td>\n",
       "      <td>White</td>\n",
       "    </tr>\n",
       "    <tr>\n",
       "      <th>11</th>\n",
       "      <td>2</td>\n",
       "      <td>2.941054</td>\n",
       "      <td>Red</td>\n",
       "    </tr>\n",
       "    <tr>\n",
       "      <th>12</th>\n",
       "      <td>3</td>\n",
       "      <td>3.683381</td>\n",
       "      <td>Dark Green</td>\n",
       "    </tr>\n",
       "    <tr>\n",
       "      <th>13</th>\n",
       "      <td>3</td>\n",
       "      <td>3.683381</td>\n",
       "      <td>Green</td>\n",
       "    </tr>\n",
       "    <tr>\n",
       "      <th>14</th>\n",
       "      <td>3</td>\n",
       "      <td>3.683381</td>\n",
       "      <td>Yellow</td>\n",
       "    </tr>\n",
       "    <tr>\n",
       "      <th>15</th>\n",
       "      <td>3</td>\n",
       "      <td>3.683381</td>\n",
       "      <td>Orange</td>\n",
       "    </tr>\n",
       "    <tr>\n",
       "      <th>16</th>\n",
       "      <td>3</td>\n",
       "      <td>3.683381</td>\n",
       "      <td>White</td>\n",
       "    </tr>\n",
       "    <tr>\n",
       "      <th>17</th>\n",
       "      <td>3</td>\n",
       "      <td>3.683381</td>\n",
       "      <td>Red</td>\n",
       "    </tr>\n",
       "    <tr>\n",
       "      <th>18</th>\n",
       "      <td>4</td>\n",
       "      <td>3.817918</td>\n",
       "      <td>Green</td>\n",
       "    </tr>\n",
       "    <tr>\n",
       "      <th>19</th>\n",
       "      <td>4</td>\n",
       "      <td>3.817918</td>\n",
       "      <td>Dark Green</td>\n",
       "    </tr>\n",
       "    <tr>\n",
       "      <th>20</th>\n",
       "      <td>4</td>\n",
       "      <td>3.817918</td>\n",
       "      <td>Yellow</td>\n",
       "    </tr>\n",
       "    <tr>\n",
       "      <th>21</th>\n",
       "      <td>4</td>\n",
       "      <td>3.817918</td>\n",
       "      <td>Orange</td>\n",
       "    </tr>\n",
       "    <tr>\n",
       "      <th>22</th>\n",
       "      <td>4</td>\n",
       "      <td>3.817918</td>\n",
       "      <td>White</td>\n",
       "    </tr>\n",
       "    <tr>\n",
       "      <th>23</th>\n",
       "      <td>4</td>\n",
       "      <td>3.817918</td>\n",
       "      <td>Red</td>\n",
       "    </tr>\n",
       "  </tbody>\n",
       "</table>\n",
       "</div>"
      ],
      "text/plain": [
       "    Price range  Aggregate rating Rating color\n",
       "0             1          1.999887       Yellow\n",
       "1             1          1.999887        White\n",
       "2             1          1.999887       Orange\n",
       "3             1          1.999887   Dark Green\n",
       "4             1          1.999887        Green\n",
       "5             1          1.999887          Red\n",
       "6             2          2.941054   Dark Green\n",
       "7             2          2.941054       Orange\n",
       "8             2          2.941054       Yellow\n",
       "9             2          2.941054        Green\n",
       "10            2          2.941054        White\n",
       "11            2          2.941054          Red\n",
       "12            3          3.683381   Dark Green\n",
       "13            3          3.683381        Green\n",
       "14            3          3.683381       Yellow\n",
       "15            3          3.683381       Orange\n",
       "16            3          3.683381        White\n",
       "17            3          3.683381          Red\n",
       "18            4          3.817918        Green\n",
       "19            4          3.817918   Dark Green\n",
       "20            4          3.817918       Yellow\n",
       "21            4          3.817918       Orange\n",
       "22            4          3.817918        White\n",
       "23            4          3.817918          Red"
      ]
     },
     "execution_count": 39,
     "metadata": {},
     "output_type": "execute_result"
    }
   ],
   "source": [
    "result = pd.merge(average_ratings, rating_df[[\"Price range\", \"Rating color\"]].drop_duplicates(), on=\"Price range\")\n",
    "result"
   ]
  },
  {
   "cell_type": "code",
   "execution_count": 40,
   "id": "a828f4e9",
   "metadata": {},
   "outputs": [
    {
     "data": {
      "text/plain": [
       "Price range                4\n",
       "Aggregate rating    3.817918\n",
       "Rating color           Green\n",
       "Name: 18, dtype: object"
      ]
     },
     "execution_count": 40,
     "metadata": {},
     "output_type": "execute_result"
    }
   ],
   "source": [
    "highest_avg_rating = result.loc[result[\"Aggregate rating\"].idxmax()]\n",
    "highest_avg_rating"
   ]
  },
  {
   "cell_type": "markdown",
   "id": "135e27bd",
   "metadata": {},
   "source": [
    "# Level2 Task3\n",
    "# Feature Engineering"
   ]
  },
  {
   "cell_type": "markdown",
   "id": "19f0f72c",
   "metadata": {},
   "source": [
    "Extract additional features from the existingcolumns, such as the length of the restaurantname or address."
   ]
  },
  {
   "cell_type": "code",
   "execution_count": 41,
   "id": "7d23802c",
   "metadata": {},
   "outputs": [
    {
     "data": {
      "text/html": [
       "<div>\n",
       "<style scoped>\n",
       "    .dataframe tbody tr th:only-of-type {\n",
       "        vertical-align: middle;\n",
       "    }\n",
       "\n",
       "    .dataframe tbody tr th {\n",
       "        vertical-align: top;\n",
       "    }\n",
       "\n",
       "    .dataframe thead th {\n",
       "        text-align: right;\n",
       "    }\n",
       "</style>\n",
       "<table border=\"1\" class=\"dataframe\">\n",
       "  <thead>\n",
       "    <tr style=\"text-align: right;\">\n",
       "      <th></th>\n",
       "      <th>Restaurant ID</th>\n",
       "      <th>Restaurant Name</th>\n",
       "      <th>Country Code</th>\n",
       "      <th>City</th>\n",
       "      <th>Address</th>\n",
       "      <th>Locality</th>\n",
       "      <th>Locality Verbose</th>\n",
       "      <th>Longitude</th>\n",
       "      <th>Latitude</th>\n",
       "      <th>Cuisines</th>\n",
       "      <th>Average Cost for two</th>\n",
       "      <th>Currency</th>\n",
       "      <th>Has Table booking</th>\n",
       "      <th>Has Online delivery</th>\n",
       "      <th>Is delivering now</th>\n",
       "      <th>Switch to order menu</th>\n",
       "      <th>Price range</th>\n",
       "      <th>Aggregate rating</th>\n",
       "      <th>Rating color</th>\n",
       "      <th>Rating text</th>\n",
       "      <th>Votes</th>\n",
       "    </tr>\n",
       "  </thead>\n",
       "  <tbody>\n",
       "    <tr>\n",
       "      <th>4284</th>\n",
       "      <td>619</td>\n",
       "      <td>Cafe Coffee Day - The Lounge</td>\n",
       "      <td>1</td>\n",
       "      <td>New Delhi</td>\n",
       "      <td>Peary Lal and Sons, 42, Janpath, New Delhi</td>\n",
       "      <td>Janpath</td>\n",
       "      <td>Janpath, New Delhi</td>\n",
       "      <td>77.220289</td>\n",
       "      <td>28.626429</td>\n",
       "      <td>Cafe</td>\n",
       "      <td>750</td>\n",
       "      <td>Indian Rupees(Rs.)</td>\n",
       "      <td>No</td>\n",
       "      <td>No</td>\n",
       "      <td>No</td>\n",
       "      <td>No</td>\n",
       "      <td>2</td>\n",
       "      <td>3.3</td>\n",
       "      <td>Orange</td>\n",
       "      <td>Average</td>\n",
       "      <td>81</td>\n",
       "    </tr>\n",
       "  </tbody>\n",
       "</table>\n",
       "</div>"
      ],
      "text/plain": [
       "      Restaurant ID               Restaurant Name  Country Code       City  \\\n",
       "4284            619  Cafe Coffee Day - The Lounge             1  New Delhi   \n",
       "\n",
       "                                         Address Locality    Locality Verbose  \\\n",
       "4284  Peary Lal and Sons, 42, Janpath, New Delhi  Janpath  Janpath, New Delhi   \n",
       "\n",
       "      Longitude   Latitude Cuisines  Average Cost for two            Currency  \\\n",
       "4284  77.220289  28.626429     Cafe                   750  Indian Rupees(Rs.)   \n",
       "\n",
       "     Has Table booking Has Online delivery Is delivering now  \\\n",
       "4284                No                  No                No   \n",
       "\n",
       "     Switch to order menu  Price range  Aggregate rating Rating color  \\\n",
       "4284                   No            2               3.3       Orange   \n",
       "\n",
       "     Rating text  Votes  \n",
       "4284     Average     81  "
      ]
     },
     "execution_count": 41,
     "metadata": {},
     "output_type": "execute_result"
    }
   ],
   "source": [
    "df.sample()"
   ]
  },
  {
   "cell_type": "code",
   "execution_count": 42,
   "id": "8a90f6ab",
   "metadata": {},
   "outputs": [
    {
     "data": {
      "text/html": [
       "<div>\n",
       "<style scoped>\n",
       "    .dataframe tbody tr th:only-of-type {\n",
       "        vertical-align: middle;\n",
       "    }\n",
       "\n",
       "    .dataframe tbody tr th {\n",
       "        vertical-align: top;\n",
       "    }\n",
       "\n",
       "    .dataframe thead th {\n",
       "        text-align: right;\n",
       "    }\n",
       "</style>\n",
       "<table border=\"1\" class=\"dataframe\">\n",
       "  <thead>\n",
       "    <tr style=\"text-align: right;\">\n",
       "      <th></th>\n",
       "      <th>Restaurant ID</th>\n",
       "      <th>Restaurant Name</th>\n",
       "      <th>Country Code</th>\n",
       "      <th>City</th>\n",
       "      <th>Address</th>\n",
       "      <th>Locality</th>\n",
       "      <th>Locality Verbose</th>\n",
       "      <th>Longitude</th>\n",
       "      <th>Latitude</th>\n",
       "      <th>Cuisines</th>\n",
       "      <th>Average Cost for two</th>\n",
       "      <th>Currency</th>\n",
       "      <th>Has Table booking</th>\n",
       "      <th>Has Online delivery</th>\n",
       "      <th>Is delivering now</th>\n",
       "      <th>Switch to order menu</th>\n",
       "      <th>Price range</th>\n",
       "      <th>Aggregate rating</th>\n",
       "      <th>Rating color</th>\n",
       "      <th>Rating text</th>\n",
       "      <th>Votes</th>\n",
       "      <th>name length</th>\n",
       "    </tr>\n",
       "  </thead>\n",
       "  <tbody>\n",
       "    <tr>\n",
       "      <th>1423</th>\n",
       "      <td>18025098</td>\n",
       "      <td>Pizza Central</td>\n",
       "      <td>1</td>\n",
       "      <td>Gurgaon</td>\n",
       "      <td>B-210, DLF Super Mart 1, DLF Phase 4, Gurgaon</td>\n",
       "      <td>DLF Phase 4</td>\n",
       "      <td>DLF Phase 4, Gurgaon</td>\n",
       "      <td>77.087295</td>\n",
       "      <td>28.46235</td>\n",
       "      <td>Fast Food, Italian, Pizza</td>\n",
       "      <td>600</td>\n",
       "      <td>Indian Rupees(Rs.)</td>\n",
       "      <td>No</td>\n",
       "      <td>Yes</td>\n",
       "      <td>No</td>\n",
       "      <td>No</td>\n",
       "      <td>2</td>\n",
       "      <td>4.1</td>\n",
       "      <td>Green</td>\n",
       "      <td>Very Good</td>\n",
       "      <td>151</td>\n",
       "      <td>13</td>\n",
       "    </tr>\n",
       "  </tbody>\n",
       "</table>\n",
       "</div>"
      ],
      "text/plain": [
       "      Restaurant ID Restaurant Name  Country Code     City  \\\n",
       "1423       18025098   Pizza Central             1  Gurgaon   \n",
       "\n",
       "                                            Address     Locality  \\\n",
       "1423  B-210, DLF Super Mart 1, DLF Phase 4, Gurgaon  DLF Phase 4   \n",
       "\n",
       "          Locality Verbose  Longitude  Latitude                   Cuisines  \\\n",
       "1423  DLF Phase 4, Gurgaon  77.087295  28.46235  Fast Food, Italian, Pizza   \n",
       "\n",
       "      Average Cost for two            Currency Has Table booking  \\\n",
       "1423                   600  Indian Rupees(Rs.)                No   \n",
       "\n",
       "     Has Online delivery Is delivering now Switch to order menu  Price range  \\\n",
       "1423                 Yes                No                   No            2   \n",
       "\n",
       "      Aggregate rating Rating color Rating text  Votes  name length  \n",
       "1423               4.1        Green   Very Good    151           13  "
      ]
     },
     "execution_count": 42,
     "metadata": {},
     "output_type": "execute_result"
    }
   ],
   "source": [
    "df[\"name length\"] = df[\"Restaurant Name\"].apply(len)\n",
    "\n",
    "df.sample()"
   ]
  },
  {
   "cell_type": "code",
   "execution_count": 43,
   "id": "892103ad",
   "metadata": {},
   "outputs": [
    {
     "data": {
      "text/html": [
       "<div>\n",
       "<style scoped>\n",
       "    .dataframe tbody tr th:only-of-type {\n",
       "        vertical-align: middle;\n",
       "    }\n",
       "\n",
       "    .dataframe tbody tr th {\n",
       "        vertical-align: top;\n",
       "    }\n",
       "\n",
       "    .dataframe thead th {\n",
       "        text-align: right;\n",
       "    }\n",
       "</style>\n",
       "<table border=\"1\" class=\"dataframe\">\n",
       "  <thead>\n",
       "    <tr style=\"text-align: right;\">\n",
       "      <th></th>\n",
       "      <th>Restaurant ID</th>\n",
       "      <th>Restaurant Name</th>\n",
       "      <th>Country Code</th>\n",
       "      <th>City</th>\n",
       "      <th>Address</th>\n",
       "      <th>Locality</th>\n",
       "      <th>Locality Verbose</th>\n",
       "      <th>Longitude</th>\n",
       "      <th>Latitude</th>\n",
       "      <th>Cuisines</th>\n",
       "      <th>Average Cost for two</th>\n",
       "      <th>Currency</th>\n",
       "      <th>Has Table booking</th>\n",
       "      <th>Has Online delivery</th>\n",
       "      <th>Is delivering now</th>\n",
       "      <th>Switch to order menu</th>\n",
       "      <th>Price range</th>\n",
       "      <th>Aggregate rating</th>\n",
       "      <th>Rating color</th>\n",
       "      <th>Rating text</th>\n",
       "      <th>Votes</th>\n",
       "      <th>name length</th>\n",
       "      <th>address length</th>\n",
       "    </tr>\n",
       "  </thead>\n",
       "  <tbody>\n",
       "    <tr>\n",
       "      <th>4705</th>\n",
       "      <td>300448</td>\n",
       "      <td>Namdhari's Icecream &amp; Bakers</td>\n",
       "      <td>1</td>\n",
       "      <td>New Delhi</td>\n",
       "      <td>J-38, Near Ramesh Nagar, Najafgarh Road, Kirti...</td>\n",
       "      <td>Kirti Nagar</td>\n",
       "      <td>Kirti Nagar, New Delhi</td>\n",
       "      <td>77.130067</td>\n",
       "      <td>28.6522</td>\n",
       "      <td>Desserts, Bakery, Fast Food</td>\n",
       "      <td>300</td>\n",
       "      <td>Indian Rupees(Rs.)</td>\n",
       "      <td>No</td>\n",
       "      <td>No</td>\n",
       "      <td>No</td>\n",
       "      <td>No</td>\n",
       "      <td>1</td>\n",
       "      <td>2.8</td>\n",
       "      <td>Orange</td>\n",
       "      <td>Average</td>\n",
       "      <td>23</td>\n",
       "      <td>28</td>\n",
       "      <td>63</td>\n",
       "    </tr>\n",
       "  </tbody>\n",
       "</table>\n",
       "</div>"
      ],
      "text/plain": [
       "      Restaurant ID               Restaurant Name  Country Code       City  \\\n",
       "4705         300448  Namdhari's Icecream & Bakers             1  New Delhi   \n",
       "\n",
       "                                                Address     Locality  \\\n",
       "4705  J-38, Near Ramesh Nagar, Najafgarh Road, Kirti...  Kirti Nagar   \n",
       "\n",
       "            Locality Verbose  Longitude  Latitude  \\\n",
       "4705  Kirti Nagar, New Delhi  77.130067   28.6522   \n",
       "\n",
       "                         Cuisines  Average Cost for two            Currency  \\\n",
       "4705  Desserts, Bakery, Fast Food                   300  Indian Rupees(Rs.)   \n",
       "\n",
       "     Has Table booking Has Online delivery Is delivering now  \\\n",
       "4705                No                  No                No   \n",
       "\n",
       "     Switch to order menu  Price range  Aggregate rating Rating color  \\\n",
       "4705                   No            1               2.8       Orange   \n",
       "\n",
       "     Rating text  Votes  name length  address length  \n",
       "4705     Average     23           28              63  "
      ]
     },
     "execution_count": 43,
     "metadata": {},
     "output_type": "execute_result"
    }
   ],
   "source": [
    "df[\"address length\"] = df[\"Address\"].apply(len)\n",
    "\n",
    "df.sample()"
   ]
  },
  {
   "cell_type": "markdown",
   "id": "8e128186",
   "metadata": {},
   "source": [
    "Create new features like \"Has Table Booking\" or \"Has Online Delivery\" by encoding categorical variables."
   ]
  },
  {
   "cell_type": "code",
   "execution_count": 44,
   "id": "bfe397fa",
   "metadata": {},
   "outputs": [],
   "source": [
    "def encoder(x):\n",
    "    if x==\"No\":\n",
    "        return 0\n",
    "    else:\n",
    "        return 1"
   ]
  },
  {
   "cell_type": "code",
   "execution_count": 45,
   "id": "12ff941e",
   "metadata": {},
   "outputs": [
    {
     "data": {
      "text/html": [
       "<div>\n",
       "<style scoped>\n",
       "    .dataframe tbody tr th:only-of-type {\n",
       "        vertical-align: middle;\n",
       "    }\n",
       "\n",
       "    .dataframe tbody tr th {\n",
       "        vertical-align: top;\n",
       "    }\n",
       "\n",
       "    .dataframe thead th {\n",
       "        text-align: right;\n",
       "    }\n",
       "</style>\n",
       "<table border=\"1\" class=\"dataframe\">\n",
       "  <thead>\n",
       "    <tr style=\"text-align: right;\">\n",
       "      <th></th>\n",
       "      <th>Restaurant ID</th>\n",
       "      <th>Restaurant Name</th>\n",
       "      <th>Country Code</th>\n",
       "      <th>City</th>\n",
       "      <th>Address</th>\n",
       "      <th>Locality</th>\n",
       "      <th>Locality Verbose</th>\n",
       "      <th>Longitude</th>\n",
       "      <th>Latitude</th>\n",
       "      <th>Cuisines</th>\n",
       "      <th>Average Cost for two</th>\n",
       "      <th>Currency</th>\n",
       "      <th>Has Table booking</th>\n",
       "      <th>Has Online delivery</th>\n",
       "      <th>Is delivering now</th>\n",
       "      <th>Switch to order menu</th>\n",
       "      <th>Price range</th>\n",
       "      <th>Aggregate rating</th>\n",
       "      <th>Rating color</th>\n",
       "      <th>Rating text</th>\n",
       "      <th>Votes</th>\n",
       "      <th>name length</th>\n",
       "      <th>address length</th>\n",
       "    </tr>\n",
       "  </thead>\n",
       "  <tbody>\n",
       "    <tr>\n",
       "      <th>2612</th>\n",
       "      <td>18304836</td>\n",
       "      <td>Nukkad</td>\n",
       "      <td>1</td>\n",
       "      <td>New Delhi</td>\n",
       "      <td>Shop 14, Nilgiri Apartments, Alaknanda, New Delhi</td>\n",
       "      <td>Alaknanda</td>\n",
       "      <td>Alaknanda, New Delhi</td>\n",
       "      <td>77.25</td>\n",
       "      <td>28.53</td>\n",
       "      <td>Chinese, Mughlai, North Indian</td>\n",
       "      <td>650</td>\n",
       "      <td>Indian Rupees(Rs.)</td>\n",
       "      <td>0</td>\n",
       "      <td>Yes</td>\n",
       "      <td>No</td>\n",
       "      <td>No</td>\n",
       "      <td>2</td>\n",
       "      <td>3.6</td>\n",
       "      <td>Yellow</td>\n",
       "      <td>Good</td>\n",
       "      <td>82</td>\n",
       "      <td>6</td>\n",
       "      <td>49</td>\n",
       "    </tr>\n",
       "  </tbody>\n",
       "</table>\n",
       "</div>"
      ],
      "text/plain": [
       "      Restaurant ID Restaurant Name  Country Code       City  \\\n",
       "2612       18304836          Nukkad             1  New Delhi   \n",
       "\n",
       "                                                Address   Locality  \\\n",
       "2612  Shop 14, Nilgiri Apartments, Alaknanda, New Delhi  Alaknanda   \n",
       "\n",
       "          Locality Verbose  Longitude  Latitude  \\\n",
       "2612  Alaknanda, New Delhi      77.25     28.53   \n",
       "\n",
       "                            Cuisines  Average Cost for two  \\\n",
       "2612  Chinese, Mughlai, North Indian                   650   \n",
       "\n",
       "                Currency  Has Table booking Has Online delivery  \\\n",
       "2612  Indian Rupees(Rs.)                  0                 Yes   \n",
       "\n",
       "     Is delivering now Switch to order menu  Price range  Aggregate rating  \\\n",
       "2612                No                   No            2               3.6   \n",
       "\n",
       "     Rating color Rating text  Votes  name length  address length  \n",
       "2612       Yellow        Good     82            6              49  "
      ]
     },
     "execution_count": 45,
     "metadata": {},
     "output_type": "execute_result"
    }
   ],
   "source": [
    "df[\"Has Table booking\"] = df[\"Has Table booking\"].apply(encoder)\n",
    "df.sample()"
   ]
  },
  {
   "cell_type": "code",
   "execution_count": 46,
   "id": "497416f2",
   "metadata": {},
   "outputs": [
    {
     "data": {
      "text/html": [
       "<div>\n",
       "<style scoped>\n",
       "    .dataframe tbody tr th:only-of-type {\n",
       "        vertical-align: middle;\n",
       "    }\n",
       "\n",
       "    .dataframe tbody tr th {\n",
       "        vertical-align: top;\n",
       "    }\n",
       "\n",
       "    .dataframe thead th {\n",
       "        text-align: right;\n",
       "    }\n",
       "</style>\n",
       "<table border=\"1\" class=\"dataframe\">\n",
       "  <thead>\n",
       "    <tr style=\"text-align: right;\">\n",
       "      <th></th>\n",
       "      <th>Restaurant ID</th>\n",
       "      <th>Restaurant Name</th>\n",
       "      <th>Country Code</th>\n",
       "      <th>City</th>\n",
       "      <th>Address</th>\n",
       "      <th>Locality</th>\n",
       "      <th>Locality Verbose</th>\n",
       "      <th>Longitude</th>\n",
       "      <th>Latitude</th>\n",
       "      <th>Cuisines</th>\n",
       "      <th>Average Cost for two</th>\n",
       "      <th>Currency</th>\n",
       "      <th>Has Table booking</th>\n",
       "      <th>Has Online delivery</th>\n",
       "      <th>Is delivering now</th>\n",
       "      <th>Switch to order menu</th>\n",
       "      <th>Price range</th>\n",
       "      <th>Aggregate rating</th>\n",
       "      <th>Rating color</th>\n",
       "      <th>Rating text</th>\n",
       "      <th>Votes</th>\n",
       "      <th>name length</th>\n",
       "      <th>address length</th>\n",
       "    </tr>\n",
       "  </thead>\n",
       "  <tbody>\n",
       "    <tr>\n",
       "      <th>4130</th>\n",
       "      <td>18381639</td>\n",
       "      <td>Tak - a - Tak</td>\n",
       "      <td>1</td>\n",
       "      <td>New Delhi</td>\n",
       "      <td>Shop 31, B Block, DDA Market, Jail Road, New D...</td>\n",
       "      <td>Jail Road</td>\n",
       "      <td>Jail Road, New Delhi</td>\n",
       "      <td>77.097632</td>\n",
       "      <td>28.630997</td>\n",
       "      <td>North Indian</td>\n",
       "      <td>300</td>\n",
       "      <td>Indian Rupees(Rs.)</td>\n",
       "      <td>0</td>\n",
       "      <td>0</td>\n",
       "      <td>No</td>\n",
       "      <td>No</td>\n",
       "      <td>1</td>\n",
       "      <td>3.3</td>\n",
       "      <td>Orange</td>\n",
       "      <td>Average</td>\n",
       "      <td>14</td>\n",
       "      <td>13</td>\n",
       "      <td>50</td>\n",
       "    </tr>\n",
       "  </tbody>\n",
       "</table>\n",
       "</div>"
      ],
      "text/plain": [
       "      Restaurant ID Restaurant Name  Country Code       City  \\\n",
       "4130       18381639   Tak - a - Tak             1  New Delhi   \n",
       "\n",
       "                                                Address   Locality  \\\n",
       "4130  Shop 31, B Block, DDA Market, Jail Road, New D...  Jail Road   \n",
       "\n",
       "          Locality Verbose  Longitude   Latitude      Cuisines  \\\n",
       "4130  Jail Road, New Delhi  77.097632  28.630997  North Indian   \n",
       "\n",
       "      Average Cost for two            Currency  Has Table booking  \\\n",
       "4130                   300  Indian Rupees(Rs.)                  0   \n",
       "\n",
       "      Has Online delivery Is delivering now Switch to order menu  Price range  \\\n",
       "4130                    0                No                   No            1   \n",
       "\n",
       "      Aggregate rating Rating color Rating text  Votes  name length  \\\n",
       "4130               3.3       Orange     Average     14           13   \n",
       "\n",
       "      address length  \n",
       "4130              50  "
      ]
     },
     "execution_count": 46,
     "metadata": {},
     "output_type": "execute_result"
    }
   ],
   "source": [
    "df[\"Has Online delivery\"] = df[\"Has Online delivery\"].apply(encoder)\n",
    "df.sample()"
   ]
  }
 ],
 "metadata": {
  "kernelspec": {
   "display_name": "env",
   "language": "python",
   "name": "python3"
  },
  "language_info": {
   "codemirror_mode": {
    "name": "ipython",
    "version": 3
   },
   "file_extension": ".py",
   "mimetype": "text/x-python",
   "name": "python",
   "nbconvert_exporter": "python",
   "pygments_lexer": "ipython3",
   "version": "3.10.11"
  }
 },
 "nbformat": 4,
 "nbformat_minor": 5
}
